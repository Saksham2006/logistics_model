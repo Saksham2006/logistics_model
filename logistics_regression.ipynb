{
 "cells": [
  {
   "cell_type": "code",
   "execution_count": 1,
   "metadata": {},
   "outputs": [],
   "source": [
    "import pandas as pd\n",
    "import numpy as np"
   ]
  },
  {
   "cell_type": "code",
   "execution_count": 8,
   "metadata": {},
   "outputs": [],
   "source": [
    "data = pd.read_csv('data.csv')\n",
    "data_filled = data.fillna(data.mean())\n",
    "x = data_filled.iloc[:, :-1].values\n",
    "y = data_filled.iloc[:, -1].values\n",
    "x = (x - np.mean(x, axis=0))/np.std(x, axis=0)"
   ]
  },
  {
   "cell_type": "code",
   "execution_count": 17,
   "metadata": {},
   "outputs": [],
   "source": [
    "w = np.zeros(x.shape[1])\n",
    "b = 0.0\n",
    "learning_rate = 0.01\n",
    "iterations = 1000"
   ]
  },
  {
   "cell_type": "code",
   "execution_count": 18,
   "metadata": {},
   "outputs": [],
   "source": [
    "def gradient_descent(x, y, w, b, learning_rate, iterations):\n",
    "    m = len(y)\n",
    "    for i in range(iterations):\n",
    "        z = np.dot(x, w) + b\n",
    "        predictions = 1 / (1 + np.exp(-z))\n",
    "        dw = (1 / m) * np.dot(x.T, (predictions - y))\n",
    "        db = (1 / m) * np.sum(predictions - y)\n",
    "        w = w - learning_rate * dw\n",
    "        b = b - learning_rate * db\n",
    "        if i%100 == 0:\n",
    "            loss = -(1/m)*np.sum(y * np.log(predictions)+(1-y)*np.log(1-predictions))\n",
    "            print(f\"Iteration {i}: loss = {loss:.2f}\")   \n",
    "    return w, b"
   ]
  },
  {
   "cell_type": "code",
   "execution_count": 19,
   "metadata": {},
   "outputs": [
    {
     "name": "stdout",
     "output_type": "stream",
     "text": [
      "Iteration 0: loss = 0.69\n",
      "Iteration 100: loss = 0.58\n",
      "Iteration 200: loss = 0.52\n",
      "Iteration 300: loss = 0.48\n",
      "Iteration 400: loss = 0.45\n",
      "Iteration 500: loss = 0.43\n",
      "Iteration 600: loss = 0.42\n",
      "Iteration 700: loss = 0.41\n",
      "Iteration 800: loss = 0.40\n",
      "Iteration 900: loss = 0.40\n",
      "Final parameters: w = [ 0.13717056  0.28902766 -0.03001376  0.04400578  0.11523117  0.04620886\n",
      "  0.06223016  0.10268922  0.05475158  0.05310461  0.16967861  0.03938395\n",
      "  0.00898806 -0.0119219   0.10910138], b = -1.44\n"
     ]
    }
   ],
   "source": [
    "w, b = gradient_descent(x, y, w, b, learning_rate, iterations)\n",
    "print(f\"Final parameters: w = {w}, b = {b:.2f}\")"
   ]
  },
  {
   "cell_type": "code",
   "execution_count": 20,
   "metadata": {},
   "outputs": [
    {
     "name": "stdout",
     "output_type": "stream",
     "text": [
      "Model accuracy: 85.35%\n"
     ]
    }
   ],
   "source": [
    "predictions = 1 / (1 + np.exp(-(np.dot(x, w) + b)))\n",
    "predicted = (predictions >= 0.5)\n",
    "accuracy = np.mean(predicted == y)\n",
    "print(f\"Model accuracy: {accuracy:.2%}\")"
   ]
  }
 ],
 "metadata": {
  "kernelspec": {
   "display_name": "base",
   "language": "python",
   "name": "python3"
  },
  "language_info": {
   "codemirror_mode": {
    "name": "ipython",
    "version": 3
   },
   "file_extension": ".py",
   "mimetype": "text/x-python",
   "name": "python",
   "nbconvert_exporter": "python",
   "pygments_lexer": "ipython3",
   "version": "3.12.4"
  }
 },
 "nbformat": 4,
 "nbformat_minor": 2
}
